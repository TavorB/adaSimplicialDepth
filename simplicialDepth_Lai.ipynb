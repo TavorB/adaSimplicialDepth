{
 "cells": [
  {
   "cell_type": "code",
   "execution_count": 6,
   "metadata": {},
   "outputs": [],
   "source": [
    "%matplotlib inline\n",
    "\n",
    "import matplotlib.pyplot as plt\n",
    "import matplotlib\n",
    "import numpy as np\n",
    "import math,os\n",
    "import cPickle as pickle\n",
    "\n",
    "# from tqdm import tqdm,trange, tqdm_notebook\n",
    "from tqdm import tqdm_notebook as tqdm\n",
    "import numpy.linalg as npl\n",
    "import itertools\n",
    "import scipy.special,time, scipy.stats\n",
    "from collections import Counter\n",
    "from scipy.special import comb as choose"
   ]
  },
  {
   "cell_type": "code",
   "execution_count": 17,
   "metadata": {},
   "outputs": [],
   "source": [
    "with open(r\"pkls/adaSim_1199_0.pkl\", \"wb\") as writeFile:\n",
    "        pickle.dump({\"strang\":\"hello world\"}, writeFile)"
   ]
  },
  {
   "cell_type": "code",
   "execution_count": 24,
   "metadata": {},
   "outputs": [],
   "source": [
    "myData = pickle.load( open( \"pkls/adaSim_1199_1.pkl\", \"rb\" ) )"
   ]
  },
  {
   "cell_type": "code",
   "execution_count": null,
   "metadata": {},
   "outputs": [],
   "source": []
  },
  {
   "cell_type": "code",
   "execution_count": 27,
   "metadata": {},
   "outputs": [],
   "source": [
    "def ceil(arr):\n",
    "    return np.ceil(arr).astype(int)\n",
    "\n",
    "def floor(arr):\n",
    "    return np.floor(arr).astype(int)"
   ]
  },
  {
   "cell_type": "code",
   "execution_count": 28,
   "metadata": {},
   "outputs": [],
   "source": [
    "def bruteForce(dataSet,maxPulls = -1):\n",
    "    (n,d) = dataSet.shape\n",
    "    estMeans = np.zeros(n)\n",
    "    \n",
    "    \n",
    "    evalPts = np.logspace(0,np.log2(scipy.special.comb(n,d+1)),num=10,base=2,endpoint=True,dtype=int)\n",
    "    if maxPulls != -1:\n",
    "        evalPts = np.logspace(0,np.log2(maxPulls),num=10,base=2,endpoint=True,dtype=int)\n",
    "#     evalPts = evalPts.astype(int)\n",
    "#     print(evalPts)\n",
    "    evalArgmax = np.zeros(len(evalPts))\n",
    "    evalCtr = 0\n",
    "    \n",
    "    \n",
    "    endIter = scipy.special.comb(n,d+1)\n",
    "    if maxPulls!= -1:\n",
    "        endIter = maxPulls\n",
    "    \n",
    "#     for i,tup in tqdm(enumerate(itertools.combinations(range(n),d+1)),total=endIter):\n",
    "    for i,tup in enumerate(itertools.combinations(range(n),d+1)):\n",
    "        refPts = dataSet[list(tup)]\n",
    "        if maxPulls!= -1:\n",
    "            refPts = dataSet[np.random.choice(n,d+1,replace=False)]\n",
    "        \n",
    "        X = refPts[:d].T - np.outer(refPts[-1], np.ones(d))\n",
    "\n",
    "        queryPts = dataSet.T\n",
    "        lamCoords = np.zeros((d+1,n))\n",
    "        lamCoords[:d] = npl.solve(X,queryPts-np.outer(refPts[-1],np.ones(n)))\n",
    "\n",
    "        lamCoords[-1] = 1-lamCoords.sum(axis=0)\n",
    "        inSimplex = 1.0*np.all(lamCoords>-1*10**(-12),axis=0)\n",
    "#         inSimplex[list(tup)]=.5\n",
    "        estMeans += inSimplex\n",
    "        \n",
    "        if i==maxPulls:\n",
    "            break\n",
    "        if i==evalPts[evalCtr]:\n",
    "            evalArgmax[evalCtr] = np.argmax(estMeans)\n",
    "            evalCtr+=1\n",
    "        \n",
    "        \n",
    "    evalArgmax[-1] = np.argmax(estMeans)\n",
    "        \n",
    "    if maxPulls!= -1:\n",
    "        return evalArgmax,evalPts*n,estMeans/maxPulls\n",
    "    return evalArgmax,evalPts*n,estMeans/scipy.special.comb(n,d+1)"
   ]
  },
  {
   "cell_type": "code",
   "execution_count": 29,
   "metadata": {},
   "outputs": [],
   "source": [
    "#### Rousseuw and Ruts\n",
    "# helpful ref https://github.com/olgazasenko/ColourfulSimplicialDepthInThePlane/blob/master/src/colourfulsimplicialdepthintheplane/RousseeuwAndRuts.java\n",
    "def ruts2dDepth(data,point):\n",
    "#     start = time.time()\n",
    "    (n,d) = data.shape\n",
    "    pi =np.pi\n",
    "    \n",
    "    alphaArr = np.zeros(n)\n",
    "    for i in range(n):\n",
    "        u = (data[i]-point)/np.linalg.norm(data[i]-point)\n",
    "        alphaArr[i] = np.arctan2(u[1],u[0])\n",
    "    \n",
    "    alphaArr = np.sort(alphaArr)\n",
    "    maxGap = max(2*np.pi+alphaArr[0] - alphaArr[-1],np.max(alphaArr[1:]-alphaArr[:-1]))\n",
    "    if maxGap>np.pi:\n",
    "#         print(r'max gap > $\\pi$')\n",
    "        return choose(n,2)/choose(n+1,3)\n",
    "    alphaArr-= alphaArr[0]\n",
    "    \n",
    "    nu = max(np.where(alphaArr<np.pi)[0])+1\n",
    "\n",
    "    betaArr = np.copy(alphaArr)-pi\n",
    "    betaArr[alphaArr<pi] += 2*pi\n",
    "\n",
    "    betaArr = np.sort(betaArr)\n",
    "    \n",
    "    \n",
    "    mergedArr,wArr = mergeArrays(alphaArr,betaArr)\n",
    "#     print(wArr)\n",
    "    \n",
    "    hi = np.zeros(n)\n",
    "    hi[0]=nu-1\n",
    "    startLoc = min(np.where(mergedArr>pi)[0])\n",
    "\n",
    "    \n",
    "#     startLoc = max(np.where(mergedArr==np.max(alphaArr[alphaArr<pi])))\n",
    "    NF = nu\n",
    "    t = 1\n",
    "    i = startLoc\n",
    "#     while t<n:\n",
    "    while i!= startLoc-1:\n",
    "        if wArr[i]==1:\n",
    "            NF+=1\n",
    "        else:\n",
    "            hi[t] = NF-(t+1)\n",
    "            t+=1\n",
    "        i+=1\n",
    "        i %= 2*n\n",
    "        \n",
    "#     print(time.time()-start)\n",
    "\n",
    "    hiCheck = np.zeros(n)\n",
    "    j=0\n",
    "    for i in range(n):\n",
    "#         j=i\n",
    "        while True:\n",
    "            if (alphaArr[i] <= alphaArr[j] and alphaArr[j]< alphaArr[i] + pi) or (alphaArr[j] < alphaArr[i]-pi):\n",
    "                j+=1\n",
    "                j%=n\n",
    "            else:\n",
    "                j-=1\n",
    "                break\n",
    "        \n",
    "        if j < i:\n",
    "            hiCheck[i] = j-i+n\n",
    "        else:\n",
    "            hiCheck[i]=j-i\n",
    "#     print(hi)\n",
    "#     print(hiCheck)\n",
    "#     if not np.allclose(hi,hiCheck):\n",
    "#         print(hi)\n",
    "#         print(hiCheck)\n",
    "#     print(np.allclose(hi,hiCheck))\n",
    "#     print(hi)\n",
    "\n",
    "#     print(time.time()-start)\n",
    "    output = choose(n,3)\n",
    "    for i in range(n):\n",
    "        output-= choose(hiCheck[i],2)\n",
    "    \n",
    "#     print(time.time()-start)\n",
    "    return (output+choose(n,2))/choose(n+1,3)\n",
    "    \n",
    "\n",
    "    \n",
    "def mergeArrays(arr1, arr2):\n",
    "    n = len(arr1)\n",
    "    arr3 = np.zeros(2*n)\n",
    "    i = 0\n",
    "    j = 0\n",
    "    k = 0\n",
    "    w = np.zeros(2*n)\n",
    "    \n",
    "#     print('w',w)\n",
    "    # Traverse both array\n",
    "    while i < n and j < n:\n",
    "        if arr1[i] < arr2[j]:\n",
    "            arr3[k] = arr1[i]\n",
    "            w[k]=1\n",
    "            k = k + 1\n",
    "            i = i + 1\n",
    "            \n",
    "        else:\n",
    "            arr3[k] = arr2[j]\n",
    "            w[k]= -1\n",
    "            k = k + 1\n",
    "            j = j + 1\n",
    "            \n",
    "     \n",
    " \n",
    "    # Store remaining elements\n",
    "    # of first array\n",
    "    while i < n:\n",
    "        arr3[k] = arr1[i];\n",
    "        w[k]=1\n",
    "        k = k + 1\n",
    "        i = i + 1\n",
    "        \n",
    " \n",
    "    # Store remaining elements\n",
    "    # of second array\n",
    "    while j < n:\n",
    "        arr3[k] = arr2[j];\n",
    "        w[k]=-1\n",
    "        k = k + 1\n",
    "        j = j + 1\n",
    "        \n",
    "    return arr3,w"
   ]
  },
  {
   "cell_type": "code",
   "execution_count": 30,
   "metadata": {},
   "outputs": [],
   "source": [
    "def bestArm(dataSet,eps,delta):\n",
    "    n,d = dataSet.shape\n",
    "    r=1\n",
    "    activeArmsArr = np.ones(n,dtype=bool)\n",
    "    activeArmsSet = set(range(n))\n",
    "    estMeans = np.zeros(n)\n",
    "    numPulls = np.zeros(n)\n",
    "    trPrev = 0\n",
    "    \n",
    "    \n",
    "    while True:\n",
    "        epsR = (1/2)**r\n",
    "        trTotal = ceil(.2*epsR**(-2)*np.log(4*n*r**2/delta))\n",
    "        tr=trTotal - trPrev\n",
    "        trPrev = trTotal\n",
    "        \n",
    "        nr = len(activeArmsSet)\n",
    "        tr = int(min(tr,scipy.special.comb(n,d+1)))\n",
    "#         print(\"r={},tr={},nr={}\".format(r,tr,nr))\n",
    "        \n",
    "        threshold = int(5*n*np.log2(n))\n",
    "        if tr>threshold and d==2:\n",
    "            exactComputeIdx = list(activeArmsSet)\n",
    "            exactComputeVal = np.zeros(len(exactComputeIdx))\n",
    "            for (i,idx) in enumerate(exactComputeIdx):\n",
    "                exactComputeVal[i] = ruts2dDepth(np.delete(dataSet,idx,axis=0),dataSet[idx])\n",
    "                estMeans[idx]=exactComputeVal[i]\n",
    "                numPulls[idx] += threshold\n",
    "#             print('short circuiting')\n",
    "#             print(exactComputeIdx)\n",
    "#             print(exactComputeVal)\n",
    "#             print(exactComputeIdx[exactComputeVal.argmax()])\n",
    "            return exactComputeIdx[exactComputeVal.argmax()],estMeans,numPulls,len(activeArmsSet)\n",
    "        \n",
    "        \n",
    "        #### pull arms\n",
    "        Yr = np.zeros((len(activeArmsSet),tr))\n",
    "        myit = itertools.combinations(range(n),d+1)\n",
    "        for j in range(tr):\n",
    "            refIdxs = np.random.choice(n,size=d+1,replace=False)\n",
    "            \n",
    "            if tr==scipy.special.comb(n,d+1):\n",
    "                refIdxs = next(myit)\n",
    "            \n",
    "            refPts = dataSet[refIdxs]\n",
    "            X = refPts[:d].T - np.outer(refPts[-1], np.ones(d))\n",
    "            \n",
    "            queryPts = dataSet[activeArmsArr].T\n",
    "            lamCoords = np.zeros((d+1,nr))\n",
    "            lamCoords[:d] = npl.solve(X,queryPts-np.outer(refPts[-1],np.ones(nr)))\n",
    "\n",
    "            lamCoords[-1] = 1-lamCoords.sum(axis=0)\n",
    "#             print(lamCoords.shape)\n",
    "#             inSimplex = np.maximum(1.0*np.all(lamCoords>-1*10**(-12),axis=0)-.5*np.any(lamCoords>1-10**(-12),axis=0),0)\n",
    "            inSimplex = 1.0*np.all(lamCoords>-1*10**(-12),axis=0)\n",
    "\n",
    "    \n",
    "            Yr[:,j] = inSimplex\n",
    "            \n",
    "        estMeans[activeArmsArr] = (numPulls[activeArmsArr]*estMeans[activeArmsArr] + Yr.sum(axis=1))/(numPulls[activeArmsArr]+tr)\n",
    "        numPulls[activeArmsArr]+=tr\n",
    "        ### end pull arms\n",
    "        \n",
    "        maxVal = estMeans[activeArmsArr].max()\n",
    "        newActive = set()\n",
    "        activeArmsArr=np.zeros(n,dtype=bool)\n",
    "#         print(estMeans[28],maxVal-epsR)\n",
    "        for i in activeArmsSet:\n",
    "            if estMeans[i]> maxVal-epsR:\n",
    "                newActive.add(i)\n",
    "                activeArmsArr[i]=True\n",
    "        activeArmsSet = newActive\n",
    "\n",
    "        if len(activeArmsSet)==1 or epsR <= eps/2 or tr>=scipy.special.comb(n,d+1):\n",
    "            return np.argmax(estMeans+100*activeArmsArr),estMeans,numPulls,0\n",
    "    \n",
    "        r+=1"
   ]
  },
  {
   "cell_type": "code",
   "execution_count": null,
   "metadata": {},
   "outputs": [],
   "source": []
  },
  {
   "cell_type": "code",
   "execution_count": 36,
   "metadata": {
    "scrolled": true
   },
   "outputs": [
    {
     "name": "stdout",
     "output_type": "stream",
     "text": [
      "[250, 268, 284, 300]\n"
     ]
    },
    {
     "data": {
      "application/vnd.jupyter.widget-view+json": {
       "model_id": "1d9830cd31504a2db586fa820c88d14d",
       "version_major": 2,
       "version_minor": 0
      },
      "text/plain": [
       "HBox(children=(IntProgress(value=0, max=4), HTML(value='')))"
      ]
     },
     "metadata": {},
     "output_type": "display_data"
    }
   ],
   "source": [
    "# n= 100\n",
    "# d=2\n",
    "# dataSet = np.random.normal(size=(n,d))\n",
    "\n",
    "\n",
    "\n",
    "\n",
    "d=2\n",
    "numTrials = 6\n",
    "# deltaArr = [.0001,.01,1]\n",
    "delta = .001\n",
    "epsilon=.000001\n",
    "# nArr = [500]\n",
    "nArr=[250,268,284,300]\n",
    "# nArr = np.round(np.logspace(np.log2(200),np.log2(20000),num=15,base=2)).astype(int)\n",
    "print(nArr)\n",
    "\n",
    "simTimes = np.zeros((len(nArr),numTrials))\n",
    "simResult = np.zeros((len(nArr),numTrials))\n",
    "simNumPulls = np.zeros((len(nArr),numTrials))\n",
    "numExactCompArr = np.zeros((len(nArr),numTrials))\n",
    "numPullsPerArm = []\n",
    "\n",
    "brutePulls = np.zeros((len(nArr),10))\n",
    "bruteResults=np.zeros(brutePulls.shape)\n",
    "bruteTimes = np.zeros(len(nArr))\n",
    "\n",
    "rutsResult = np.zeros(len(nArr))\n",
    "rutsTimes = np.zeros(len(nArr))\n",
    "rutsTotalDepths = []\n",
    "\n",
    "# for (i,n) in enumerate(nArr):\n",
    "for (i,n) in tqdm(enumerate(nArr),total=len(nArr)):\n",
    "    np.random.seed(0)\n",
    "    dataSet = np.random.normal(size=(n,d))\n",
    "\n",
    "    numPullsArr = np.zeros(n)\n",
    "    for j in range(numTrials):\n",
    "        if j%2 ==0:\n",
    "            dataSet = np.random.normal(size=(n,d))\n",
    "#         np.random.seed(i)\n",
    "        start = time.time()\n",
    "        idx,estMeans,numPulls,numExactComp = bestArm(dataSet,epsilon,delta)\n",
    "        simResult[i,j] = idx\n",
    "        simNumPulls[i,j] = numPulls.sum()\n",
    "        simTimes[i,j] = time.time()-start\n",
    "        numExactCompArr[i,j] = numExactComp\n",
    "        numPullsArr += numPulls\n",
    "    numPullsPerArm.append(numPullsArr/numTrials)\n",
    "#     print(simResult[i])\n",
    "\n",
    "    continue\n",
    "    start = time.time()\n",
    "    maxBrutePull = 10000\n",
    "    evalArgmax,evalPts,estMeansBrute = bruteForce(dataSet,maxPulls=maxBrutePull)\n",
    "    brutePulls[i] = evalPts\n",
    "    bruteResults[i] = evalArgmax\n",
    "    bruteTimes[i] = (time.time()-start)*scipy.special.comb(n,d+1)/maxBrutePull\n",
    "\n",
    "\n",
    "    ### get timing for ruts\n",
    "    start=time.time()\n",
    "    bruteCompNum = 50\n",
    "    rutsDepth = np.zeros(n)\n",
    "    for j in range(bruteCompNum):\n",
    "        rutsDepth[j] = ruts2dDepth(np.delete(dataSet,j,axis=0),dataSet[j])\n",
    "    rutsTimes[i]= (time.time()-start)*n/bruteCompNum\n",
    "    \n",
    "    ### actually compute ruts depth\n",
    "#     start = time.time()\n",
    "#     rutsDepth = np.zeros(n)\n",
    "#     for j in tqdm(range(n)):\n",
    "#         rutsDepth[j] = ruts2dDepth(np.delete(dataSet,j,axis=0),dataSet[j])\n",
    "\n",
    "#     rutsResult[i] = np.argmax(rutsDepth)\n",
    "#     rutsTimes[i] = time.time()-start\n",
    "#     rutsTotalDepths.append(rutsDepth)\n",
    "#     print(rutsTime)"
   ]
  },
  {
   "cell_type": "code",
   "execution_count": null,
   "metadata": {},
   "outputs": [],
   "source": [
    "# np.savez('plots/data20k.npz', nArr=nArr,bruteTimes=bruteTimes, rutsTimes = rutsTimes, simTimes = simTimes,\n",
    "#         simNumPulls = simNumPulls, numPullsPerArm = numPullsPerArm)"
   ]
  },
  {
   "cell_type": "code",
   "execution_count": null,
   "metadata": {},
   "outputs": [],
   "source": []
  },
  {
   "cell_type": "code",
   "execution_count": null,
   "metadata": {},
   "outputs": [],
   "source": [
    "import pickle\n",
    "import itertools\n",
    "\n",
    "\n",
    "itertools.product()\n",
    "\n",
    "for (i,n) in tqdm(enumerate(nArr),total=len(nArr)):\n",
    "\n",
    "\n",
    "    for j in range(numTrials):\n",
    "        numPullsArr = np.zeros(n)\n",
    "        np.random.seed(j//2)\n",
    "        \n",
    "        dataSet = np.random.normal(size=(n,d))\n",
    "        np.random.seed(j)\n",
    "\n",
    "        \n",
    "        start = time.time()\n",
    "        idx,estMeans,numPulls,numExactComp = bestArm(dataSet,epsilon,delta)\n",
    "        \n",
    "        totalTime = time.time()-start\n",
    "#         simResult[i,j] = idx\n",
    "#         simNumPulls[i,j] = numPulls.sum()\n",
    "#         simTimes[i,j] = time.time()-start\n",
    "#         numExactCompArr[i,j] = numExactComp\n",
    "#         numPullsArr += numPulls\n",
    "#         pickle.dump([colProbStoreArrAll,colProbStoreArrMean,argminKmerProb,\n",
    "# \t\t\"colProbStoreArrAll, colProbStoreArrMean, argminKmerProb\"],\n",
    "# \t\topen(\"AUCs/{}_colProb.pkl\".format(dataset[:-1]), \"wb\" ) )\n",
    "        \n",
    "        pickle.dump([j//2,j,n,idx,numExactComp,numPulls,estMeans,\"dataSeed\",\"trial num\",\"n\",\"numExactComp\",\"numPulls\",\"estMeans\"],\n",
    "                    open(\"pkls/{}_{}_adaSim.pkl\".format(n,j), \"wb\" ) )\n",
    "#     numPullsPerArm.append(numPullsArr/numTrials)\n",
    "#     print(simResult[i])"
   ]
  },
  {
   "cell_type": "code",
   "execution_count": null,
   "metadata": {},
   "outputs": [],
   "source": []
  },
  {
   "cell_type": "code",
   "execution_count": null,
   "metadata": {},
   "outputs": [],
   "source": []
  },
  {
   "cell_type": "code",
   "execution_count": null,
   "metadata": {},
   "outputs": [],
   "source": []
  },
  {
   "cell_type": "code",
   "execution_count": null,
   "metadata": {},
   "outputs": [],
   "source": [
    "# np.savez('plots/data8k.npz', nArr=nArr,bruteTimes=bruteTimes, rutsTimes = rutsTimes, simTimes = simTimes,\n",
    "#         simNumPulls = simNumPulls, numPullsPerArm = numPullsPerArm)"
   ]
  },
  {
   "cell_type": "code",
   "execution_count": null,
   "metadata": {},
   "outputs": [],
   "source": []
  },
  {
   "cell_type": "code",
   "execution_count": 35,
   "metadata": {},
   "outputs": [
    {
     "name": "stdout",
     "output_type": "stream",
     "text": [
      "[1.91322462 1.75114075 4.01411339]\n"
     ]
    }
   ],
   "source": [
    "print(simTimes.mean(axis=1))"
   ]
  },
  {
   "cell_type": "code",
   "execution_count": null,
   "metadata": {},
   "outputs": [],
   "source": [
    "rutsTimes"
   ]
  },
  {
   "cell_type": "code",
   "execution_count": null,
   "metadata": {},
   "outputs": [],
   "source": []
  },
  {
   "cell_type": "code",
   "execution_count": 37,
   "metadata": {},
   "outputs": [
    {
     "name": "stderr",
     "output_type": "stream",
     "text": [
      "/home/tavorb/anaconda2/envs/py36/lib/python3.6/site-packages/ipykernel_launcher.py:5: RuntimeWarning: divide by zero encountered in log\n",
      "  \"\"\"\n",
      "/home/tavorb/anaconda2/envs/py36/lib/python3.6/site-packages/numpy/lib/function_base.py:2320: RuntimeWarning: invalid value encountered in subtract\n",
      "  X -= avg[:, None]\n",
      "/home/tavorb/anaconda2/envs/py36/lib/python3.6/site-packages/ipykernel_launcher.py:6: RuntimeWarning: divide by zero encountered in log\n",
      "  \n"
     ]
    },
    {
     "data": {
      "text/plain": [
       "<matplotlib.legend.Legend at 0x7efea02f0f28>"
      ]
     },
     "execution_count": 37,
     "metadata": {},
     "output_type": "execute_result"
    },
    {
     "data": {
      "image/png": "[encoded data removed]",
      "text/plain": [
       "<Figure size 432x288 with 1 Axes>"
      ]
     },
     "metadata": {
      "needs_background": "light"
     },
     "output_type": "display_data"
    }
   ],
   "source": [
    "# plt.figure()\n",
    "fig1, ax1 = plt.subplots()\n",
    "\n",
    "s=0\n",
    "bruteSlope,_,_,_,_ = scipy.stats.linregress(np.log(nArr)[s:], np.log(bruteTimes)[s:])\n",
    "rutSlope,_,_,_,_ = scipy.stats.linregress(np.log(nArr)[s:], np.log(rutsTimes)[s:])\n",
    "adaSlope,_,_,_,_ = scipy.stats.linregress(np.log(nArr)[s:], np.log(simTimes.mean(axis=1)[s:]))\n",
    "\n",
    "\n",
    "plt.plot(nArr,bruteTimes,'--o',color='r',label='brute force, slope={:.1F}'.format(bruteSlope))\n",
    "plt.plot(nArr,rutsTimes,'--o',color='g',label='Rousseeuw, slope={:.1F}'.format(rutSlope))\n",
    "plt.plot(nArr,simTimes.mean(axis=1),'--o',color='b',label='adaptive, slope={:.1F}'.format(adaSlope))\n",
    "# plt.plot(nArr,np.median(simTimes,axis=1),'--o',color='y',label='adaptive, slope={:.1F}'.format(adaSlope))\n",
    "\n",
    "# plt.errorbar(nArr,simTimes.mean(axis=1),yerr=4*np.var(simTimes,axis=1)**(.5),fmt='--o',color='y',label='adaptive, slope={:.1F}'.format(adaSlope))\n",
    "\n",
    "# plt.plot(nArr,bruteTimes,'--o',color='r',label='brute force')\n",
    "# plt.plot(nArr,rutsTimes,'--o',color='g',label='Rousseeuw')\n",
    "# plt.plot(nArr,simTimes.mean(axis=1),'--o',color='b',label='adaptive')\n",
    "plt.yscale('log')\n",
    "# plt.xscale('log')\n",
    "plt.ylabel('seconds')\n",
    "plt.xlabel('n')\n",
    "# plt.title(r'Simplicial median computation for $d=2$')\n",
    "plt.legend()\n",
    "\n",
    "# ax1.set_xscale('log')\n",
    "# ax1.set_xticks([200,2000,20000])\n",
    "# ax1.get_xaxis().set_major_formatter(matplotlib.ticker.ScalarFormatter())\n",
    "# plt.show()\n",
    "# plt.savefig('plots/adaWithRousseeuw2d_20k.pdf')"
   ]
  },
  {
   "cell_type": "code",
   "execution_count": null,
   "metadata": {},
   "outputs": [],
   "source": [
    "slope, intercept, r_value, p_value, std_err = scipy.stats.linregress(np.log(nArr)[-5:], np.log(simTimes.mean(axis=1))[-5:])\n",
    "print(slope)"
   ]
  },
  {
   "cell_type": "code",
   "execution_count": null,
   "metadata": {},
   "outputs": [],
   "source": [
    "yVals = [scipy.special.comb(n,3) for n in nArr]\n",
    "slope, intercept, r_value, p_value, std_err = scipy.stats.linregress(np.log(nArr), np.log(yVals))\n",
    "print(slope)"
   ]
  },
  {
   "cell_type": "code",
   "execution_count": null,
   "metadata": {},
   "outputs": [],
   "source": []
  },
  {
   "cell_type": "code",
   "execution_count": null,
   "metadata": {},
   "outputs": [],
   "source": [
    "plt.plot(nArr,np.mean(numExactCompArr,axis=1)/nArr,'--o')\n",
    "# plt.title('Fraction of simplicial depths exactly computed')\n",
    "plt.ylabel('fraction')\n",
    "plt.xlabel('n')\n",
    "ax=plt.gca()\n",
    "ax.set_xscale('log')\n",
    "ax.set_xticks([200,2000,20000])\n",
    "ax.get_xaxis().set_major_formatter(matplotlib.ticker.ScalarFormatter())\n",
    "# plt.show()\n",
    "# plt.savefig('plots/ada2dFracExactComp20k.pdf')"
   ]
  },
  {
   "cell_type": "code",
   "execution_count": null,
   "metadata": {},
   "outputs": [],
   "source": []
  },
  {
   "cell_type": "code",
   "execution_count": null,
   "metadata": {},
   "outputs": [],
   "source": [
    "idx = 2\n",
    "threshold = int(5*n*np.log2(n))\n",
    "gaps = rutsTotalDepths[idx].max()-rutsTotalDepths[idx]\n",
    "plt.figure()\n",
    "plt.scatter(gaps[gaps>0]**(-2),numPullsPerArm[idx][gaps>0],alpha=.5, label='Cost per data point')\n",
    "plt.axhline(threshold, linestyle='--',c='r', label='Exact computation cost')\n",
    "plt.xscale('log')\n",
    "plt.yscale('log')\n",
    "plt.xlabel(r'Inverse gap squared $\\Delta_i^{-2}$')\n",
    "plt.ylabel('Number of pulls')\n",
    "plt.title('Number of computations used per point \\n' r'for $n=500,d=2$')\n",
    "\n",
    "x = gaps[gaps>0]**(-2)\n",
    "y=numPullsPerArm[idx][gaps>0]\n",
    "x = x[y<threshold]\n",
    "y = y[y<threshold]\n",
    "\n",
    "coefs = np.polynomial.polynomial.Polynomial.fit(x,y,1).convert().coef\n",
    "\n",
    "plt.plot(x,coefs[0]+coefs[1]*x,'--r')\n",
    "\n",
    "plt.legend()\n",
    "# plt.savefig('plots/pullsVsGap.pdf')"
   ]
  },
  {
   "cell_type": "code",
   "execution_count": null,
   "metadata": {},
   "outputs": [],
   "source": [
    "x = gaps[gaps>0]**(-2)\n",
    "y=numPullsPerArm[idx][gaps>0]\n",
    "x = x[y<threshold]\n",
    "y = y[y<threshold]\n",
    "\n",
    "# np.polynomial.polynomial.Polynomial.fit(x,y,1).convert().coef\n",
    "slope, intercept, r_value, p_value, std_err = scipy.stats.linregress(x, y)"
   ]
  },
  {
   "cell_type": "code",
   "execution_count": null,
   "metadata": {
    "scrolled": true
   },
   "outputs": [],
   "source": [
    "r_value**2"
   ]
  },
  {
   "cell_type": "code",
   "execution_count": null,
   "metadata": {},
   "outputs": [],
   "source": []
  },
  {
   "cell_type": "code",
   "execution_count": null,
   "metadata": {},
   "outputs": [],
   "source": []
  },
  {
   "cell_type": "code",
   "execution_count": null,
   "metadata": {},
   "outputs": [],
   "source": [
    "### plotting gap hist\n",
    "gaps = []\n",
    "for _ in tqdm(range(10)):\n",
    "    n = 50\n",
    "    dataset = np.random.normal(size=(n,d))\n",
    "    rutsDepth = np.zeros(n)\n",
    "    for j in tqdm(range(n)):\n",
    "        rutsDepth[j] = ruts2dDepth(np.delete(dataSet,j,axis=0),dataSet[j])\n",
    "    gapArr = rutsDepth.max() - rutsDepth\n",
    "    gaps.append(list(gapArr[gapArr>0]))"
   ]
  },
  {
   "cell_type": "code",
   "execution_count": null,
   "metadata": {},
   "outputs": [],
   "source": [
    "gaps = [x for lst in gaps for x in lst]"
   ]
  },
  {
   "cell_type": "code",
   "execution_count": null,
   "metadata": {},
   "outputs": [],
   "source": [
    "# gaps = rutsDepth.max() - rutsDepth\n",
    "# gaps = gaps[gaps>0]\n",
    "plt.hist(gaps,bins=20)"
   ]
  },
  {
   "cell_type": "code",
   "execution_count": null,
   "metadata": {},
   "outputs": [],
   "source": []
  },
  {
   "cell_type": "code",
   "execution_count": null,
   "metadata": {},
   "outputs": [],
   "source": [
    "# bestPt = int(Counter(bruteResults[:,-1]).most_common(1)[0][0]) \n",
    "# bestPt = bruteResults[0,-1]\n",
    "bestPt = Counter(simResult.flatten()).most_common(1)[0][0].astype(int)\n",
    "\n",
    "plt.figure()\n",
    "plt.scatter(simNumPulls.mean(axis=1),1-(simResult==bestPt).mean(axis=1),c='r',label='adaptive')\n",
    "\n",
    "bruteArr = np.mean(bruteResults==bestPt,axis=0)\n",
    "# w = 4\n",
    "# toPlot = np.convolve(bruteArr,np.ones(w),'same')/w\n",
    "# toPlot[-w:] = bruteArr[-w:]\n",
    "plt.plot(evalPts,1-bruteArr,'--bo',label='uniform sampling')\n",
    "plt.axvline(n*scipy.special.comb(n,d+1),color='b', linestyle='--',label='brute force')\n",
    "\n",
    "plt.ylim([-.05,1])\n",
    "plt.xlim(left=1)\n",
    "plt.xscale('log')\n",
    "plt.xlabel('Number of linear system solves')\n",
    "plt.ylabel('Error probability')\n",
    "plt.title('N = {}, d = {} \\n Exact: 2hr, Adaptive: 5s'.format(n,d))\n",
    "plt.legend()\n",
    "# plt.savefig('plots/n{}d{}manipulatedConf.pdf'.format(n,d))"
   ]
  },
  {
   "cell_type": "code",
   "execution_count": null,
   "metadata": {},
   "outputs": [],
   "source": []
  },
  {
   "cell_type": "code",
   "execution_count": null,
   "metadata": {},
   "outputs": [],
   "source": [
    "_=ruts2dDepth(np.random.normal(size=(1000,2)),np.zeros(2))"
   ]
  },
  {
   "cell_type": "code",
   "execution_count": null,
   "metadata": {},
   "outputs": [],
   "source": [
    "randDataset = np.random.normal(size=(20,2))\n",
    "randQuery = np.random.normal(size=2)\n",
    "print(\"depth is\", ruts2dDepth(np.delete(randDataset,0,axis=0),randDataset[0]))\n",
    "evalArgmax,evalPts,estMeansBrute = bruteForce(randDataset)\n",
    "print(\"depth is\",estMeansBrute[0])"
   ]
  },
  {
   "cell_type": "code",
   "execution_count": null,
   "metadata": {},
   "outputs": [],
   "source": []
  },
  {
   "cell_type": "code",
   "execution_count": null,
   "metadata": {},
   "outputs": [],
   "source": [
    "### Aug 7 testing ruts alg\n",
    "\n",
    "nTest = nArr\n",
    "rutsTest = []\n",
    "for n in tqdm(nTest):\n",
    "    dataset = np.random.normal(size=(n,2))\n",
    "    start = time.time()\n",
    "    \n",
    "    for _ in range(10):\n",
    "        _=ruts2dDepth(dataset,np.zeros(2))\n",
    "    rutsTest.append((time.time()-start)/10)"
   ]
  },
  {
   "cell_type": "code",
   "execution_count": null,
   "metadata": {},
   "outputs": [],
   "source": []
  },
  {
   "cell_type": "code",
   "execution_count": null,
   "metadata": {},
   "outputs": [],
   "source": []
  },
  {
   "cell_type": "code",
   "execution_count": null,
   "metadata": {},
   "outputs": [],
   "source": []
  },
  {
   "cell_type": "code",
   "execution_count": null,
   "metadata": {},
   "outputs": [],
   "source": [
    "ruts2dDepth(thetaToXY([0,pi/3,7*pi/4,pi/2+eps,pi,3*pi/2-eps]),[0,0])"
   ]
  },
  {
   "cell_type": "code",
   "execution_count": null,
   "metadata": {},
   "outputs": [],
   "source": []
  },
  {
   "cell_type": "code",
   "execution_count": null,
   "metadata": {},
   "outputs": [],
   "source": []
  },
  {
   "cell_type": "code",
   "execution_count": null,
   "metadata": {},
   "outputs": [],
   "source": []
  },
  {
   "cell_type": "code",
   "execution_count": null,
   "metadata": {},
   "outputs": [],
   "source": [
    "def thetaToXY(thetaArr):\n",
    "    dataArr = np.zeros((len(thetaArr),2))\n",
    "    dataArr[:,0] = np.cos(thetaArr)\n",
    "    dataArr[:,1] = np.sin(thetaArr)\n",
    "    \n",
    "    return dataArr"
   ]
  },
  {
   "cell_type": "code",
   "execution_count": null,
   "metadata": {},
   "outputs": [],
   "source": [
    "pi=np.pi\n",
    "thetaToXY([0,pi/3,7*pi/4,pi/2,pi,3*pi/2])"
   ]
  },
  {
   "cell_type": "code",
   "execution_count": null,
   "metadata": {},
   "outputs": [],
   "source": [
    "ruts2dDepth(thetaToXY([0,pi/3,7*pi/4,pi/2+eps,pi,3*pi/2-eps]),[0,0])"
   ]
  },
  {
   "cell_type": "code",
   "execution_count": null,
   "metadata": {},
   "outputs": [],
   "source": [
    "eps=.000001\n",
    "data = thetaToXY([0,pi/3,7*pi/4,pi/2+eps,pi,3*pi/2-eps])\n",
    "plt.scatter(data[:,0],data[:,1])\n",
    "plt.scatter(0,0)"
   ]
  },
  {
   "cell_type": "code",
   "execution_count": null,
   "metadata": {},
   "outputs": [],
   "source": [
    "data = thetaToXY([0,0,pi/3,7*pi/4,pi/2+eps,pi,3*pi/2-eps])\n",
    "data[0]=[0,0]\n",
    "bruteForce(data)[-1]*choose(data.shape[0],3)"
   ]
  },
  {
   "cell_type": "code",
   "execution_count": null,
   "metadata": {},
   "outputs": [],
   "source": []
  },
  {
   "cell_type": "code",
   "execution_count": null,
   "metadata": {},
   "outputs": [],
   "source": []
  },
  {
   "cell_type": "code",
   "execution_count": null,
   "metadata": {},
   "outputs": [],
   "source": []
  },
  {
   "cell_type": "markdown",
   "metadata": {},
   "source": [
    "## graveyard below"
   ]
  },
  {
   "cell_type": "code",
   "execution_count": null,
   "metadata": {},
   "outputs": [],
   "source": [
    "queryPt = np.array([.2,0])\n",
    "refPts = dataSet[[1,2,3]]\n",
    "print(queryPt)\n",
    "print(refPts)"
   ]
  },
  {
   "cell_type": "code",
   "execution_count": null,
   "metadata": {},
   "outputs": [],
   "source": [
    "plt.scatter(refPts[:,0],refPts[:,1],c='r')\n",
    "plt.plot(refPts[:,0],refPts[:,1],c='r')\n",
    "plt.plot([refPts[-1,0],refPts[0,0]],[refPts[-1,1],refPts[0,1]],c='r')\n",
    "plt.scatter(queryPt[0],queryPt[1],c='b')\n",
    "# plt.scatter(.6,1.9)"
   ]
  },
  {
   "cell_type": "code",
   "execution_count": null,
   "metadata": {},
   "outputs": [],
   "source": [
    "X = refPts[:d].T - np.outer(refPts[-1], np.ones(d))"
   ]
  },
  {
   "cell_type": "code",
   "execution_count": null,
   "metadata": {},
   "outputs": [],
   "source": [
    "lamCoords = np.zeros(d+1)\n",
    "# lamCoords[:d] = npl.inv(X).dot(queryPt-refPts[-1])\n",
    "# lamCoords[:d] = npl.solve(X,queryPt-refPts[-1])\n",
    "\n",
    "multQueries = np.array([refPts[-1],[.6,1.9],[.2,0]]).T\n",
    "lamCoords = np.zeros((d+1,3))\n",
    "lamCoords[:d] = npl.solve(X,multQueries-np.outer(refPts[-1],np.ones(multQueries.shape[1])))\n",
    "\n",
    "lamCoords[-1] = 1-lamCoords.sum(axis=0)\n",
    "print(lamCoords)"
   ]
  },
  {
   "cell_type": "code",
   "execution_count": null,
   "metadata": {},
   "outputs": [],
   "source": [
    "multQueries-np.outer(refPts[-1],np.ones(multQueries.shape[1]))"
   ]
  },
  {
   "cell_type": "code",
   "execution_count": null,
   "metadata": {},
   "outputs": [],
   "source": []
  },
  {
   "cell_type": "code",
   "execution_count": null,
   "metadata": {},
   "outputs": [],
   "source": []
  },
  {
   "cell_type": "code",
   "execution_count": null,
   "metadata": {},
   "outputs": [],
   "source": [
    "idx,estMeans,numPulls = bestArm(dataSet,.1,.01)"
   ]
  },
  {
   "cell_type": "code",
   "execution_count": null,
   "metadata": {},
   "outputs": [],
   "source": [
    "plt.scatter(dataSet[:,0],dataSet[:,1],c='b')\n",
    "plt.scatter(dataSet[3,0],dataSet[3,1],c='r')"
   ]
  },
  {
   "cell_type": "code",
   "execution_count": null,
   "metadata": {
    "scrolled": true
   },
   "outputs": [],
   "source": [
    "plt.scatter(npl.norm(dataSet-dataSet.mean(axis=0),axis=1),numPulls)"
   ]
  },
  {
   "cell_type": "code",
   "execution_count": null,
   "metadata": {},
   "outputs": [],
   "source": []
  },
  {
   "cell_type": "code",
   "execution_count": null,
   "metadata": {},
   "outputs": [],
   "source": []
  },
  {
   "cell_type": "code",
   "execution_count": null,
   "metadata": {},
   "outputs": [],
   "source": [
    "for i in tqdm(range(numTrials)):\n",
    "    np.random.seed(i)\n",
    "    start = time.time()\n",
    "    idx,estMeans,numPulls,numExactComp = bestArm(dataSet,0.000001,delta)\n",
    "    mid = time.time()\n",
    "    simResult[j,i] = idx\n",
    "    simNumPulls[j,i] = numPulls.sum()\n",
    "    simTimes[j,i] = mid-start\n",
    "    numExactCompArr[j,i] = numExactComp\n",
    "\n",
    "    \n",
    "bruteTrials = 1\n",
    "brutePulls = np.zeros(10)\n",
    "bruteResults = np.zeros(10)\n",
    "bruteTimes = np.zeros(bruteTrials)\n",
    "for i in range(bruteTrials):\n",
    "    print(i)\n",
    "#     np.random.seed(i)\n",
    "    start = time.time()\n",
    "    maxPullVal = 30000\n",
    "    evalArgmax,evalPts,estMeansBrute = bruteForce(dataSet,maxPulls=maxPullVal)\n",
    "\n",
    "#     evalArgmax,evalPts,estMeansBrute = bruteForce(dataSet[np.random.permutation(n)])\n",
    "    brutePulls = evalPts\n",
    "    bruteResults[i] = evalArgmax\n",
    "    bruteTimes[i] = (time.time()-start)*scipy.special.comb(n,d+1)/maxPullVal\n",
    "\n",
    "    \n",
    "start=time.time()\n",
    "rutsDepth = np.zeros(n)\n",
    "for i in tqdm(range(n)):\n",
    "    rutsDepth[i] = ruts2dDepth(np.delete(dataSet,i,axis=0),dataSet[i])\n",
    "    \n",
    "rutsResult = np.argmax(rutsDepth)\n",
    "rutsTime = time.time()-start\n",
    "print(rutsTime)"
   ]
  }
 ],
 "metadata": {
  "kernelspec": {
   "display_name": "Python 3",
   "language": "python",
   "name": "python3"
  },
  "language_info": {
   "codemirror_mode": {
    "name": "ipython",
    "version": 3
   },
   "file_extension": ".py",
   "mimetype": "text/x-python",
   "name": "python",
   "nbconvert_exporter": "python",
   "pygments_lexer": "ipython3",
   "version": "3.6.8"
  }
 },
 "nbformat": 4,
 "nbformat_minor": 2
}
