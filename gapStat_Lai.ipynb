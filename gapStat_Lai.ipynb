{
 "cells": [
  {
   "cell_type": "code",
   "execution_count": 195,
   "metadata": {},
   "outputs": [],
   "source": [
    "%matplotlib inline\n",
    "\n",
    "import matplotlib.pyplot as plt\n",
    "import matplotlib\n",
    "import numpy as np\n",
    "import math,os\n",
    "\n",
    "import pickle\n",
    "# from tqdm import tqdm,trange, tqdm_notebook\n",
    "from tqdm import tqdm_notebook as tqdm\n",
    "import numpy.linalg as npl\n",
    "import itertools\n",
    "import scipy.special,time, scipy.stats\n",
    "from collections import Counter\n",
    "from scipy.special import comb as choose\n",
    "import sklearn.cluster\n",
    "# import sklearn.metrics.pairwise_distances"
   ]
  },
  {
   "cell_type": "code",
   "execution_count": 130,
   "metadata": {},
   "outputs": [],
   "source": [
    "np.random.seed(7)\n",
    "d=2\n",
    "clusterSizes = 50\n",
    "numClusters = 4\n",
    "n=clusterSizes*numClusters\n",
    "dataSet = np.random.normal(size=(n,d),scale=.5)\n",
    "clusterCenters = np.random.normal(size=(numClusters,d),scale=5)\n",
    "for i in range(numClusters):\n",
    "    dataSet[i*clusterSizes:(i+1)*clusterSizes] += clusterCenters[i]\n"
   ]
  },
  {
   "cell_type": "code",
   "execution_count": 131,
   "metadata": {},
   "outputs": [
    {
     "data": {
      "text/plain": [
       "<matplotlib.collections.PathCollection at 0x7f96d5525748>"
      ]
     },
     "execution_count": 131,
     "metadata": {},
     "output_type": "execute_result"
    },
    {
     "data": {
      "image/png": "[encoded data removed]",
      "text/plain": [
       "<Figure size 432x288 with 1 Axes>"
      ]
     },
     "metadata": {
      "needs_background": "light"
     },
     "output_type": "display_data"
    }
   ],
   "source": [
    "plt.figure()\n",
    "plt.scatter(dataSet[:,0],dataSet[:,1])"
   ]
  },
  {
   "cell_type": "code",
   "execution_count": 78,
   "metadata": {},
   "outputs": [],
   "source": [
    "def compGap(data,k):\n",
    "    \n",
    "    if k==1:\n",
    "        dists = sklearn.metrics.pairwise_distances(data,metric='sqeuclidean')\n",
    "        return dists.sum()/4/data.shape[0]\n",
    "    \n",
    "    centroid,labels,inertia = sklearn.cluster.k_means(data,k)\n",
    "    D = np.zeros(k)\n",
    "    counts = np.zeros(k)\n",
    "    for (i,li) in enumerate(labels):\n",
    "        counts[li]+=1\n",
    "        for (j,lj) in enumerate(labels):\n",
    "            if li != lj or j <= i:\n",
    "                continue\n",
    "            D[li] += np.linalg.norm(data[i]-data[j])**2\n",
    "    \n",
    "    return np.sum(D/counts/2)\n",
    "    "
   ]
  },
  {
   "cell_type": "code",
   "execution_count": 133,
   "metadata": {},
   "outputs": [
    {
     "data": {
      "application/vnd.jupyter.widget-view+json": {
       "model_id": "aace537e3d624324a33f98d378821fff",
       "version_major": 2,
       "version_minor": 0
      },
      "text/plain": [
       "HBox(children=(IntProgress(value=0, max=9), HTML(value='')))"
      ]
     },
     "metadata": {},
     "output_type": "display_data"
    }
   ],
   "source": [
    "kArr = range(1,10)\n",
    "\n",
    "### dataset\n",
    "lows = np.min(dataSet,axis=0)\n",
    "highs = np.max(dataSet,axis=0)\n",
    "\n",
    "\n",
    "WkArr = np.zeros(len(kArr))\n",
    "WkbArr = np.zeros(len(kArr))\n",
    "WkbStdArr = np.zeros(len(kArr))\n",
    "numSamplesArr = np.zeros(len(kArr))\n",
    "for (loc,k) in tqdm(enumerate(kArr),total = len(kArr)):\n",
    "    Wk = compGap(dataSet,k)\n",
    "    WkArr[loc] = Wk\n",
    "    \n",
    "    WkbTrials = []\n",
    "    for b in range(10):\n",
    "        dataFake = np.zeros((n,d))\n",
    "        for i in range(d):\n",
    "            dataFake[:,i] = np.random.uniform(lows[i],highs[i],size=n)\n",
    "        \n",
    "        WkbTrials.append(compGap(dataFake,k))\n",
    "    WkbArr[loc] = np.mean(WkbTrials)\n",
    "    WkbStdArr[loc] = np.std(WkbTrials)"
   ]
  },
  {
   "cell_type": "code",
   "execution_count": 134,
   "metadata": {},
   "outputs": [],
   "source": [
    "gapArr = WkbArr-WkArr"
   ]
  },
  {
   "cell_type": "code",
   "execution_count": 137,
   "metadata": {},
   "outputs": [
    {
     "data": {
      "text/plain": [
       "array([-820.139419  ,  813.1898326 ,  749.72059139,  882.14135892,\n",
       "        716.87785842,  581.69616473,  491.19136286,  415.94591229,\n",
       "        360.87428908])"
      ]
     },
     "execution_count": 137,
     "metadata": {},
     "output_type": "execute_result"
    }
   ],
   "source": [
    "gapArr"
   ]
  },
  {
   "cell_type": "code",
   "execution_count": 136,
   "metadata": {},
   "outputs": [
    {
     "name": "stdout",
     "output_type": "stream",
     "text": [
      "-1633.3292516032234 1\n",
      "63.46924121303209 2\n",
      "-132.42076752701882 3\n",
      "165.2635005017204 4\n",
      "135.18169368456472 5\n",
      "90.50480187082752 6\n",
      "75.24545057193455 7\n",
      "55.07162321119148 8\n"
     ]
    }
   ],
   "source": [
    "for i in range(len(gapArr)-1):\n",
    "    print(gapArr[i] - gapArr[i+1],kArr[i])"
   ]
  },
  {
   "cell_type": "code",
   "execution_count": null,
   "metadata": {},
   "outputs": [],
   "source": []
  },
  {
   "cell_type": "code",
   "execution_count": null,
   "metadata": {},
   "outputs": [],
   "source": []
  },
  {
   "cell_type": "code",
   "execution_count": 184,
   "metadata": {},
   "outputs": [],
   "source": [
    "\n",
    "def gapStat(dataSet,kMax=20,maxPulls=20,const=5):\n",
    "\n",
    "#     kMax = 20\n",
    "    \n",
    "#     const = 5\n",
    "\n",
    "    ### dataset\n",
    "    lows = np.min(dataSet,axis=0)\n",
    "    highs = np.max(dataSet,axis=0)\n",
    "\n",
    "    B = maxPulls\n",
    "    dataFakes = np.zeros((B,n,d))\n",
    "    for t in range(B):\n",
    "        dataFake = np.zeros((n,d))\n",
    "        for i in range(d):\n",
    "            dataFake[:,i] = np.random.uniform(lows[i],highs[i],size=n)\n",
    "        dataFakes[t] = dataFake\n",
    "    \n",
    "\n",
    "    WkArr = np.zeros(kMax)\n",
    "    WkbArr = np.zeros(kMax)\n",
    "    numSamplesArr = np.zeros(kMax)\n",
    "\n",
    "\n",
    "    prevArr = []\n",
    "    currArr = []\n",
    "\n",
    "    WkArr[1] = compGap(dataSet,1)\n",
    "    \n",
    "    itersUsed = 0\n",
    "    \n",
    "    k=2\n",
    "    while k<kMax:\n",
    "        currArr = []\n",
    "        WkArr[k] = compGap(dataSet,k)\n",
    "\n",
    "        t=0\n",
    "        while t<maxPulls//2:\n",
    "            itersUsed+=2\n",
    "#             print(k,t)\n",
    "\n",
    "#             dataFake = np.zeros((n,d))\n",
    "#             for i in range(d):\n",
    "#                 dataFake[:,i] = np.random.uniform(lows[i],highs[i],size=n)\n",
    "\n",
    "            prevArr.append(compGap(dataFakes[t],k-1))\n",
    "            currArr.append(compGap(dataFakes[t+maxPulls//2],k))\n",
    "\n",
    "            if t<1:\n",
    "                t+=1\n",
    "                continue\n",
    "            ##### need to do actual confidence intervals\n",
    "#             if np.mean(prevArr) - WkArr[k-1] >= np.mean(currArr) - WkArr[k] - np.sqrt(1+1.0/len(currArr))*np.std(currArr):\n",
    "#                 return k-1,itersUsed\n",
    "\n",
    "#             if np.mean(prevArr) - WkArr[k-1] <= np.mean(currArr) - WkArr[k] - 5*np.sqrt(1+1.0/len(currArr))*np.std(currArr):\n",
    "#                 break\n",
    "#             print(k,t)\n",
    "#             print(np.mean(prevArr) - WkArr[k-1], const*np.std(prevArr)/np.sqrt(len(prevArr)))\n",
    "#             print(np.mean(currArr) - WkArr[k], const*np.std(currArr)/np.sqrt(len(currArr)))\n",
    "            if np.mean(prevArr) - WkArr[k-1] - const*np.std(prevArr)/np.sqrt(len(prevArr)) >= np.mean(currArr) - WkArr[k] +(const/np.sqrt(len(currArr)) -1)*np.std(currArr):\n",
    "                return k-1,itersUsed\n",
    "\n",
    "            if np.mean(prevArr) - WkArr[k-1] + const*np.std(prevArr)/np.sqrt(len(prevArr)) <= np.mean(currArr) - WkArr[k] -(const/np.sqrt(len(currArr)) +1)*np.std(currArr):\n",
    "                break\n",
    "\n",
    "\n",
    "            t+=1\n",
    "        prevArr=currArr\n",
    "\n",
    "        k+=1\n",
    "        \n",
    "    return kMax,itersUsed"
   ]
  },
  {
   "cell_type": "code",
   "execution_count": 166,
   "metadata": {},
   "outputs": [],
   "source": [
    "\n",
    "def gapStatBrute(dataSet,B=20):\n",
    "\n",
    "    kMax = 20\n",
    "    \n",
    "\n",
    "    ### dataset\n",
    "    lows = np.min(dataSet,axis=0)\n",
    "    highs = np.max(dataSet,axis=0)\n",
    "\n",
    "\n",
    "    WkArr = np.zeros(kMax)\n",
    "    WkbArr = np.zeros((kMax,B))\n",
    "    \n",
    "\n",
    "    dataFakes = np.zeros((B,n,d))\n",
    "    for t in range(B):\n",
    "        dataFake = np.zeros((n,d))\n",
    "        for i in range(d):\n",
    "            dataFake[:,i] = np.random.uniform(lows[i],highs[i],size=n)\n",
    "        dataFakes[t] = dataFake\n",
    "    \n",
    "    \n",
    "    for k in range(1,kMax):\n",
    "\n",
    "        WkArr[k] = compGap(dataSet,k)\n",
    "\n",
    "\n",
    "        for t in range(B):\n",
    "\n",
    "            dataFake = dataFakes[t]\n",
    "            \n",
    "            WkbArr[k,t] = compGap(dataFake,k)\n",
    "\n",
    "\n",
    "\n",
    "        if k>1 and np.mean(WkbArr[k-1]) - WkArr[k-1]>= np.mean(WkbArr[k]) - WkArr[k] -np.std(WkbArr[k]):\n",
    "            return k-1,k*B\n",
    "\n",
    "        \n",
    "    return kMax,kMax*B\n"
   ]
  },
  {
   "cell_type": "code",
   "execution_count": null,
   "metadata": {},
   "outputs": [],
   "source": []
  },
  {
   "cell_type": "code",
   "execution_count": 140,
   "metadata": {},
   "outputs": [
    {
     "name": "stdout",
     "output_type": "stream",
     "text": [
      "2 2\n",
      "-862.8207543957255 9.091079125576085\n",
      "854.7637382970884 6.206502418656465\n",
      "3 2\n",
      "800.1109543361881 3.926124414915465\n",
      "663.0279778716058 2.5542535228664454\n"
     ]
    },
    {
     "data": {
      "text/plain": [
       "(2, 12)"
      ]
     },
     "execution_count": 140,
     "metadata": {},
     "output_type": "execute_result"
    }
   ],
   "source": [
    "gapStat(dataSet)"
   ]
  },
  {
   "cell_type": "code",
   "execution_count": null,
   "metadata": {},
   "outputs": [],
   "source": []
  },
  {
   "cell_type": "code",
   "execution_count": 191,
   "metadata": {},
   "outputs": [
    {
     "data": {
      "application/vnd.jupyter.widget-view+json": {
       "model_id": "1a8e4c9a4d5f4416bef0fa72dcc67513",
       "version_major": 2,
       "version_minor": 0
      },
      "text/plain": [
       "HBox(children=(IntProgress(value=0, max=10), HTML(value='')))"
      ]
     },
     "metadata": {},
     "output_type": "display_data"
    },
    {
     "name": "stdout",
     "output_type": "stream",
     "text": [
      "0 4.0 0.0 34.0 0.0\n",
      "1 2.0 0.0 8.0 0.0\n",
      "2 4.0 0.0 34.0 0.0\n",
      "3 4.0 0.0 16.0 0.0\n",
      "4 3.0 0.0 14.0 0.0\n",
      "5 4.0 0.0 16.0 0.0\n",
      "6 4.0 0.0 16.0 0.0\n",
      "7 3.0 0.0 12.0 0.0\n",
      "8 4.0 0.0 22.0 0.0\n",
      "9 4.0 0.0 32.0 0.0\n"
     ]
    }
   ],
   "source": [
    "### testing\n",
    "numTrials = 10\n",
    "d=3\n",
    "clusterSizes = 50\n",
    "numClusters = 4\n",
    "n=clusterSizes*numClusters\n",
    "\n",
    "maxPulls = 20\n",
    "const = 5\n",
    "\n",
    "answers = np.zeros(numTrials)\n",
    "samplesUsed = np.zeros(numTrials)\n",
    "\n",
    "bruteAnswer = np.zeros(numTrials)\n",
    "bruteSamplesUsed = np.zeros(numTrials)\n",
    "for t in tqdm(range(numTrials)):\n",
    "    np.random.seed(t)\n",
    "    while True:\n",
    "        clusterCenters = np.random.normal(size=(numClusters,d),scale=5)\n",
    "        valid = True\n",
    "        for i in range(numClusters):\n",
    "            for j in range(i+1,numClusters):\n",
    "                if np.linalg.norm(clusterCenters[i]-clusterCenters[j]) <=1:\n",
    "                    valid = False\n",
    "        if valid:\n",
    "            break\n",
    "        \n",
    "#     print(clusterCenters)\n",
    "    dataSet = np.random.normal(size=(n,d),scale=.1)\n",
    "\n",
    "    for i in range(numClusters):\n",
    "        dataSet[i*clusterSizes:(i+1)*clusterSizes] += clusterCenters[i]\n",
    "\n",
    "    a,s = gapStat(dataSet, kMax=20,maxPulls=maxPulls, const=5)\n",
    "    answers[t]=a\n",
    "    samplesUsed[t]=s\n",
    "\n",
    "    \n",
    "#     a,s = gapStatBrute(dataSet, B=maxPulls)\n",
    "#     bruteAnswer[t]=a\n",
    "#     bruteSamplesUsed[t]=s\n",
    "    \n",
    "    \n",
    "for t in range(numTrials):\n",
    "    print(t,answers[t],bruteAnswer[t],samplesUsed[t],bruteSamplesUsed[t])\n",
    "# print(answers)\n",
    "# print(bruteAnswer)\n",
    "# print(samplesUsed)"
   ]
  },
  {
   "cell_type": "code",
   "execution_count": 192,
   "metadata": {},
   "outputs": [
    {
     "data": {
      "text/plain": [
       "(0.7, 20.4)"
      ]
     },
     "execution_count": 192,
     "metadata": {},
     "output_type": "execute_result"
    }
   ],
   "source": [
    "np.mean(answers==4),np.mean(samplesUsed)"
   ]
  },
  {
   "cell_type": "code",
   "execution_count": 190,
   "metadata": {},
   "outputs": [
    {
     "data": {
      "text/plain": [
       "(0.5, 15.0)"
      ]
     },
     "execution_count": 190,
     "metadata": {},
     "output_type": "execute_result"
    }
   ],
   "source": [
    "np.mean(answers==4),np.mean(samplesUsed)"
   ]
  },
  {
   "cell_type": "code",
   "execution_count": 177,
   "metadata": {},
   "outputs": [
    {
     "data": {
      "text/plain": [
       "216.0"
      ]
     },
     "execution_count": 177,
     "metadata": {},
     "output_type": "execute_result"
    }
   ],
   "source": [
    "np.sum(samplesUsed)"
   ]
  },
  {
   "cell_type": "code",
   "execution_count": 172,
   "metadata": {
    "scrolled": true
   },
   "outputs": [
    {
     "data": {
      "text/plain": [
       "(array([ 4.,  5.,  4.,  4.,  4., 13.,  4., 20.,  4.,  6.]),\n",
       " array([ 16.,  36.,  16.,  18.,  28., 198.,  16., 312.,  28.,  72.]))"
      ]
     },
     "execution_count": 172,
     "metadata": {},
     "output_type": "execute_result"
    }
   ],
   "source": [
    "answers, samplesUsed"
   ]
  },
  {
   "cell_type": "code",
   "execution_count": 471,
   "metadata": {},
   "outputs": [],
   "source": [
    "np.random.seed(0)\n",
    "    \n",
    "numClusters=4\n",
    "clusterSizes = np.random.choice([25,50],size=numClusters)\n",
    "n = np.sum(clusterSizes)\n",
    "\n",
    "d=2\n",
    "\n",
    "\n",
    "\n",
    "clusterCenters = np.array([[1,0],[0,1],[-1,0],[0,-1]])\n",
    "\n",
    "dataSet = np.random.normal(size=(n,d),scale=.2)\n",
    "lens = np.cumsum(clusterSizes)\n",
    "dataSet[:lens[0]] +=clusterCenters[0]\n",
    "for i in range(numClusters-1):\n",
    "    dataSet[lens[i]:lens[i+1]] += clusterCenters[i+1]"
   ]
  },
  {
   "cell_type": "code",
   "execution_count": 472,
   "metadata": {},
   "outputs": [
    {
     "data": {
      "text/plain": [
       "<matplotlib.collections.PathCollection at 0x7f969b983cf8>"
      ]
     },
     "execution_count": 472,
     "metadata": {},
     "output_type": "execute_result"
    },
    {
     "data": {
      "image/png": "[encoded data removed]",
      "text/plain": [
       "<Figure size 432x288 with 1 Axes>"
      ]
     },
     "metadata": {
      "needs_background": "light"
     },
     "output_type": "display_data"
    }
   ],
   "source": [
    "plt.figure()\n",
    "plt.scatter(dataSet[:,0],dataSet[:,1])"
   ]
  },
  {
   "cell_type": "code",
   "execution_count": null,
   "metadata": {},
   "outputs": [],
   "source": []
  },
  {
   "cell_type": "code",
   "execution_count": null,
   "metadata": {},
   "outputs": [],
   "source": []
  },
  {
   "cell_type": "markdown",
   "metadata": {},
   "source": [
    "# Plotting"
   ]
  },
  {
   "cell_type": "code",
   "execution_count": 482,
   "metadata": {},
   "outputs": [
    {
     "name": "stdout",
     "output_type": "stream",
     "text": [
      "[0.88]\n",
      "[13.92]\n"
     ]
    }
   ],
   "source": [
    "constArr = [1]\n",
    "numTrials = 50\n",
    "maxPulls = 200\n",
    "kMax = 10\n",
    "\n",
    "setup =6\n",
    "answer=4\n",
    "\n",
    "adaDataOut = np.zeros((len(constArr),numTrials))\n",
    "adaDataPullsUsed = np.zeros((len(constArr),numTrials))\n",
    "adaWkArr = np.zeros((len(constArr),numTrials,kMax))\n",
    "adaWkbArr = np.zeros((len(constArr),numTrials,kMax,maxPulls))\n",
    "\n",
    "n=200\n",
    "d=3\n",
    "adaDataSets = np.zeros((len(constArr),numTrials,n,d))\n",
    "\n",
    "for (i,const) in enumerate(constArr):\n",
    "    for j in range(numTrials):\n",
    "        myData = pickle.load( open( \"pkls_gap/ada_i{}_c{}_exp{}.pkl\".format(setup,const,j), \"rb\" ) )\n",
    "        adaDataOut[i,j] = myData[\"k\"]\n",
    "        adaDataPullsUsed[i,j] = myData[\"itersUsed\"]\n",
    "#         adaWkArr[i,j] = myData[\"WkArr\"]\n",
    "#         adaWkbArr[i,j] = myData[\"WkbArr\"]\n",
    "#         adaDataSets[i,j]=myData[\"dataSet\"]\n",
    "\n",
    "print((adaDataOut==answer).mean(axis=1))\n",
    "print(adaDataPullsUsed.mean(axis=1))"
   ]
  },
  {
   "cell_type": "code",
   "execution_count": null,
   "metadata": {},
   "outputs": [],
   "source": []
  },
  {
   "cell_type": "code",
   "execution_count": 459,
   "metadata": {},
   "outputs": [
    {
     "data": {
      "text/plain": [
       "array([10., 10., 10., 10.,  9., 10., 10., 10., 10., 10., 10., 10., 10.,\n",
       "       10.,  9., 10.,  9.,  9., 10.,  8., 10., 10., 10., 10., 10., 10.,\n",
       "       10., 10., 10., 10., 10., 10., 10., 10., 10.,  8., 10., 10., 10.,\n",
       "       10., 10., 10., 10., 10., 10., 10.,  9., 10., 10., 10.])"
      ]
     },
     "execution_count": 459,
     "metadata": {},
     "output_type": "execute_result"
    }
   ],
   "source": [
    "adaDataOut[0]"
   ]
  },
  {
   "cell_type": "code",
   "execution_count": 483,
   "metadata": {},
   "outputs": [
    {
     "name": "stdout",
     "output_type": "stream",
     "text": [
      "0.88\n",
      "14.28\n"
     ]
    }
   ],
   "source": [
    "maxPulls = 3\n",
    "kMax = 10\n",
    "numTrials = 50\n",
    "bruteOut = np.zeros(numTrials)\n",
    "brutePullsUsed = np.zeros(numTrials)\n",
    "bruteWkArr = np.zeros((numTrials,kMax))\n",
    "bruteWkbArr = np.zeros((numTrials,kMax,maxPulls))\n",
    "bruteDataSets = np.zeros((numTrials,n,d))\n",
    "for i in range(numTrials):\n",
    "    myData = pickle.load( open( \"pkls_gap/naive_i{}_p{}_exp{}.pkl\".format(setup,maxPulls,i), \"rb\" ) )\n",
    "    bruteOut[i] = myData[\"k\"]\n",
    "    brutePullsUsed[i] = myData[\"itersUsed\"]\n",
    "#     bruteWkArr[i] = myData[\"WkArr\"]\n",
    "#     bruteWkbArr[i] = myData[\"WkbArr\"]\n",
    "#     bruteDataSets[i] = myData[\"dataSet\"]\n",
    "\n",
    "print((bruteOut==answer).mean())\n",
    "print(brutePullsUsed.mean())"
   ]
  },
  {
   "cell_type": "code",
   "execution_count": null,
   "metadata": {},
   "outputs": [],
   "source": []
  },
  {
   "cell_type": "code",
   "execution_count": 476,
   "metadata": {},
   "outputs": [
    {
     "data": {
      "text/plain": [
       "array([1., 1., 1., 1., 1., 1., 1., 2., 1., 1., 1., 1., 1., 1., 1., 1., 1.,\n",
       "       1., 2., 1., 1., 1., 1., 1., 1., 1., 1., 1., 1., 1., 1., 1., 1., 1.,\n",
       "       1., 1., 1., 1., 1., 1., 1., 1., 1., 1., 1., 1., 1., 2., 1., 1.])"
      ]
     },
     "execution_count": 476,
     "metadata": {},
     "output_type": "execute_result"
    }
   ],
   "source": [
    "bruteOut"
   ]
  },
  {
   "cell_type": "code",
   "execution_count": null,
   "metadata": {},
   "outputs": [],
   "source": []
  },
  {
   "cell_type": "code",
   "execution_count": 449,
   "metadata": {},
   "outputs": [],
   "source": [
    "d=10\n",
    "numClusters=10\n",
    "clusterSizes = np.random.choice([25,50],size=numClusters)\n",
    "n = np.sum(clusterSizes)\n",
    "\n",
    "\n",
    "\n",
    "while True:\n",
    "    clusterCenters = np.random.normal(size=(numClusters,d))\n",
    "    clusterCenters= clusterCenters / np.linalg.norm(clusterCenters,axis=1,keepdims=True)*5\n",
    "    valid = True\n",
    "    for i in range(numClusters):\n",
    "        for j in range(i+1,numClusters):\n",
    "            if np.linalg.norm(clusterCenters[i]-clusterCenters[j]) <=5:\n",
    "                valid = False\n",
    "    if valid:\n",
    "        break\n",
    "\n",
    "dataSet = np.random.normal(size=(n,d),scale=.1)\n",
    "lens = np.cumsum(clusterSizes)\n",
    "dataSet[:lens[0]] +=clusterCenters[0]\n",
    "for i in range(numClusters-1):\n",
    "    dataSet[lens[i]:lens[i+1]] += clusterCenters[i+1]\n",
    "\n"
   ]
  },
  {
   "cell_type": "code",
   "execution_count": null,
   "metadata": {},
   "outputs": [],
   "source": []
  },
  {
   "cell_type": "code",
   "execution_count": 447,
   "metadata": {},
   "outputs": [],
   "source": [
    "centroid,labels,inertia = sklearn.cluster.k_means(dataSet,4)"
   ]
  },
  {
   "cell_type": "code",
   "execution_count": 448,
   "metadata": {},
   "outputs": [
    {
     "data": {
      "text/plain": [
       "<matplotlib.collections.PathCollection at 0x7f969ba93748>"
      ]
     },
     "execution_count": 448,
     "metadata": {},
     "output_type": "execute_result"
    },
    {
     "data": {
      "image/png": "[encoded data removed]",
      "text/plain": [
       "<Figure size 432x288 with 1 Axes>"
      ]
     },
     "metadata": {
      "needs_background": "light"
     },
     "output_type": "display_data"
    }
   ],
   "source": [
    "plt.scatter(dataSet[:,0],dataSet[:,1])\n",
    "# plt.scatter(clusterCenters[:,0],clusterCenters[:,1],c='red')\n",
    "# plt.scatter(centroid[:,0],centroid[:,1],c='yellow')"
   ]
  },
  {
   "cell_type": "code",
   "execution_count": null,
   "metadata": {},
   "outputs": [],
   "source": []
  },
  {
   "cell_type": "code",
   "execution_count": null,
   "metadata": {},
   "outputs": [],
   "source": []
  },
  {
   "cell_type": "code",
   "execution_count": 259,
   "metadata": {},
   "outputs": [
    {
     "data": {
      "text/plain": [
       "array([   0.        , 8845.33531343,  579.24602569,  237.29374507,\n",
       "          0.        ,    0.        ])"
      ]
     },
     "execution_count": 259,
     "metadata": {},
     "output_type": "execute_result"
    }
   ],
   "source": [
    "bruteWkArr[1]"
   ]
  },
  {
   "cell_type": "code",
   "execution_count": 258,
   "metadata": {},
   "outputs": [
    {
     "data": {
      "text/plain": [
       "array([   0.        , 8845.33531343,  579.24602569,  237.29374507,\n",
       "          0.        ,    0.        ])"
      ]
     },
     "execution_count": 258,
     "metadata": {},
     "output_type": "execute_result"
    }
   ],
   "source": [
    "adaWkArr[0,1]"
   ]
  },
  {
   "cell_type": "code",
   "execution_count": 266,
   "metadata": {},
   "outputs": [
    {
     "data": {
      "text/plain": [
       "array([100.,  60.,  80., 100.,  80., 100., 100.,  80., 100.,  80., 100.,\n",
       "       100., 100., 100.,  80., 100.,  80., 100., 100.,  80., 100.,  60.,\n",
       "       100.,  80., 100., 100., 100., 100., 100., 100.,  80., 100.,  80.,\n",
       "       100.,  60.,  80., 100., 100., 100., 100., 100., 100., 100., 100.,\n",
       "       100., 100., 100., 100., 100., 100.])"
      ]
     },
     "execution_count": 266,
     "metadata": {},
     "output_type": "execute_result"
    }
   ],
   "source": [
    "brutePullsUsed"
   ]
  },
  {
   "cell_type": "code",
   "execution_count": 284,
   "metadata": {},
   "outputs": [],
   "source": [
    "dataSet = np.random.normal(size=(100,2))\n",
    "dataSet[25:50] += [0,5]\n",
    "dataSet[50:] += [5,-3]"
   ]
  },
  {
   "cell_type": "code",
   "execution_count": 304,
   "metadata": {},
   "outputs": [
    {
     "data": {
      "text/plain": [
       "array([ 1,  6, 21, 41])"
      ]
     },
     "execution_count": 304,
     "metadata": {},
     "output_type": "execute_result"
    }
   ],
   "source": [
    "np.cumsum([1,5,15,20])"
   ]
  },
  {
   "cell_type": "code",
   "execution_count": 326,
   "metadata": {},
   "outputs": [
    {
     "data": {
      "text/plain": [
       "Text(0, 0.5, 'Percent accuracy')"
      ]
     },
     "execution_count": 326,
     "metadata": {},
     "output_type": "execute_result"
    },
    {
     "data": {
      "image/png": "[encoded data removed]",
      "text/plain": [
       "<Figure size 432x288 with 1 Axes>"
      ]
     },
     "metadata": {
      "needs_background": "light"
     },
     "output_type": "display_data"
    }
   ],
   "source": [
    "plt.figure()\n",
    "plt.scatter(adaDataPullsUsed.mean(axis=1),(adaDataOut==answer).mean(axis=1))\n",
    "plt.scatter(brutePullsUsed.mean(),(bruteOut==answer).mean())\n",
    "plt.xlabel(\"Average number of MC Computations\")\n",
    "plt.ylabel(\"Percent accuracy\")"
   ]
  },
  {
   "cell_type": "code",
   "execution_count": 220,
   "metadata": {},
   "outputs": [
    {
     "data": {
      "text/plain": [
       "<matplotlib.collections.PathCollection at 0x7f96b881f828>"
      ]
     },
     "execution_count": 220,
     "metadata": {},
     "output_type": "execute_result"
    },
    {
     "data": {
      "image/png": "[encoded data removed]",
      "text/plain": [
       "<Figure size 432x288 with 1 Axes>"
      ]
     },
     "metadata": {
      "needs_background": "light"
     },
     "output_type": "display_data"
    }
   ],
   "source": [
    "plt.figure()\n",
    "plt.scatter((adaDataOut==4).mean(axis=1),adaDataPullsUsed.mean(axis=1))\n",
    "plt.scatter((bruteOut==4).mean(),brutePullsUsed.mean())"
   ]
  },
  {
   "cell_type": "code",
   "execution_count": 206,
   "metadata": {},
   "outputs": [
    {
     "data": {
      "text/plain": [
       "<matplotlib.collections.PathCollection at 0x7f96d40873c8>"
      ]
     },
     "execution_count": 206,
     "metadata": {},
     "output_type": "execute_result"
    },
    {
     "data": {
      "image/png": "[encoded data removed]",
      "text/plain": [
       "<Figure size 432x288 with 1 Axes>"
      ]
     },
     "metadata": {
      "needs_background": "light"
     },
     "output_type": "display_data"
    }
   ],
   "source": [
    "plt.figure()\n",
    "plt.scatter((adaDataOut==4).mean(axis=1),adaDataPullsUsed.mean(axis=1))\n",
    "plt.scatter((bruteOut==4).mean(),brutePullsUsed.mean())"
   ]
  },
  {
   "cell_type": "code",
   "execution_count": 212,
   "metadata": {},
   "outputs": [
    {
     "data": {
      "text/plain": [
       "<matplotlib.collections.PathCollection at 0x7f96b88e3940>"
      ]
     },
     "execution_count": 212,
     "metadata": {},
     "output_type": "execute_result"
    },
    {
     "data": {
      "image/png": "[encoded data removed]",
      "text/plain": [
       "<Figure size 432x288 with 1 Axes>"
      ]
     },
     "metadata": {
      "needs_background": "light"
     },
     "output_type": "display_data"
    }
   ],
   "source": [
    "plt.figure()\n",
    "plt.scatter((adaDataOut==4).mean(axis=1),adaDataPullsUsed.mean(axis=1))\n",
    "plt.scatter((bruteOut==4).mean(),brutePullsUsed.mean())"
   ]
  },
  {
   "cell_type": "code",
   "execution_count": 216,
   "metadata": {},
   "outputs": [
    {
     "data": {
      "text/plain": [
       "<matplotlib.collections.PathCollection at 0x7f96b88b1f28>"
      ]
     },
     "execution_count": 216,
     "metadata": {},
     "output_type": "execute_result"
    },
    {
     "data": {
      "image/png": "[encoded data removed]",
      "text/plain": [
       "<Figure size 432x288 with 1 Axes>"
      ]
     },
     "metadata": {
      "needs_background": "light"
     },
     "output_type": "display_data"
    }
   ],
   "source": [
    "plt.figure()\n",
    "plt.scatter((adaDataOut==4).mean(axis=1),adaDataPullsUsed.mean(axis=1))\n",
    "plt.scatter((bruteOut==4).mean(),brutePullsUsed.mean())"
   ]
  },
  {
   "cell_type": "code",
   "execution_count": 213,
   "metadata": {},
   "outputs": [
    {
     "data": {
      "text/plain": [
       "array([[4., 2., 3., 4., 3., 4., 4., 3., 4., 3., 4., 4., 4., 4., 3., 4.,\n",
       "        3., 4., 4., 3., 4., 2., 4., 3., 4., 4., 4., 4., 4., 4., 3., 4.,\n",
       "        3., 4., 4., 4., 4., 4., 4., 4., 4., 4., 4., 4., 4., 4., 4., 4.,\n",
       "        4., 4.],\n",
       "       [4., 2., 4., 4., 3., 4., 4., 3., 4., 3., 4., 4., 4., 4., 3., 4.,\n",
       "        3., 4., 4., 3., 4., 2., 4., 3., 4., 4., 4., 4., 4., 4., 3., 4.,\n",
       "        3., 4., 4., 4., 4., 4., 4., 4., 4., 4., 4., 4., 4., 4., 4., 4.,\n",
       "        4., 4.],\n",
       "       [4., 2., 4., 4., 3., 4., 4., 3., 4., 3., 4., 4., 4., 4., 3., 4.,\n",
       "        3., 4., 4., 3., 4., 2., 4., 3., 4., 4., 4., 4., 4., 4., 3., 4.,\n",
       "        3., 4., 4., 4., 4., 4., 4., 4., 4., 4., 4., 4., 4., 4., 4., 4.,\n",
       "        4., 4.]])"
      ]
     },
     "execution_count": 213,
     "metadata": {},
     "output_type": "execute_result"
    }
   ],
   "source": [
    "adaDataOut"
   ]
  },
  {
   "cell_type": "code",
   "execution_count": 210,
   "metadata": {},
   "outputs": [
    {
     "data": {
      "text/plain": [
       "64.0"
      ]
     },
     "execution_count": 210,
     "metadata": {},
     "output_type": "execute_result"
    }
   ],
   "source": [
    "adaDataPullsUsed[0,2]"
   ]
  },
  {
   "cell_type": "code",
   "execution_count": null,
   "metadata": {},
   "outputs": [],
   "source": []
  }
 ],
 "metadata": {
  "kernelspec": {
   "display_name": "Python 3",
   "language": "python",
   "name": "python3"
  },
  "language_info": {
   "codemirror_mode": {
    "name": "ipython",
    "version": 3
   },
   "file_extension": ".py",
   "mimetype": "text/x-python",
   "name": "python",
   "nbconvert_exporter": "python",
   "pygments_lexer": "ipython3",
   "version": "3.6.8"
  }
 },
 "nbformat": 4,
 "nbformat_minor": 2
}
